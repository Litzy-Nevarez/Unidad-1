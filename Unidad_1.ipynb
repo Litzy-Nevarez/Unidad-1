{
 "cells": [
  {
   "cell_type": "markdown",
   "id": "da3a7912",
   "metadata": {},
   "source": [
    "# Unidad 1 Conceptos Generales de Phyton"
   ]
  },
  {
   "cell_type": "code",
   "execution_count": 1,
   "id": "e4b4bffd",
   "metadata": {},
   "outputs": [
    {
     "name": "stdout",
     "output_type": "stream",
     "text": [
      "Litzy Nevarez\n"
     ]
    }
   ],
   "source": [
    "print(\"Litzy Nevarez\")"
   ]
  },
  {
   "cell_type": "code",
   "execution_count": 1,
   "id": "187c5d52",
   "metadata": {},
   "outputs": [
    {
     "name": "stdout",
     "output_type": "stream",
     "text": [
      "Hola \n",
      " Mundo\n"
     ]
    }
   ],
   "source": [
    "print(\"Hola \\n Mundo\")"
   ]
  },
  {
   "cell_type": "code",
   "execution_count": 7,
   "id": "7f8f90cc",
   "metadata": {},
   "outputs": [
    {
     "name": "stdout",
     "output_type": "stream",
     "text": [
      "Hola Mundo\n"
     ]
    }
   ],
   "source": [
    "print(\"Hola Mundo\")"
   ]
  },
  {
   "cell_type": "code",
   "execution_count": 8,
   "id": "f4a6f8cf",
   "metadata": {},
   "outputs": [
    {
     "name": "stdout",
     "output_type": "stream",
     "text": [
      "************************\n"
     ]
    }
   ],
   "source": [
    "print(\"************************\")"
   ]
  },
  {
   "cell_type": "code",
   "execution_count": 9,
   "id": "96c9c0ee",
   "metadata": {},
   "outputs": [
    {
     "name": "stdout",
     "output_type": "stream",
     "text": [
      "**************************************************\n"
     ]
    }
   ],
   "source": [
    "print(\"*\" * 50) "
   ]
  },
  {
   "cell_type": "code",
   "execution_count": 10,
   "id": "d43d7049",
   "metadata": {},
   "outputs": [
    {
     "name": "stdout",
     "output_type": "stream",
     "text": [
      "Hola mundoHola mundoHola mundoHola mundoHola mundoHola mundoHola mundoHola mundoHola mundoHola mundoHola mundoHola mundoHola mundoHola mundoHola mundoHola mundoHola mundoHola mundoHola mundoHola mundoHola mundoHola mundoHola mundoHola mundoHola mundoHola mundoHola mundoHola mundoHola mundoHola mundoHola mundoHola mundoHola mundoHola mundoHola mundoHola mundoHola mundoHola mundoHola mundoHola mundoHola mundoHola mundoHola mundoHola mundoHola mundoHola mundoHola mundoHola mundoHola mundoHola mundo\n"
     ]
    }
   ],
   "source": [
    "print(\"Hola mundo\" * 50)"
   ]
  },
  {
   "cell_type": "markdown",
   "id": "6a01280c",
   "metadata": {},
   "source": [
    "## Operadores en Phyton"
   ]
  },
  {
   "cell_type": "code",
   "execution_count": 11,
   "id": "3e58064b",
   "metadata": {},
   "outputs": [
    {
     "name": "stdout",
     "output_type": "stream",
     "text": [
      "150\n"
     ]
    }
   ],
   "source": [
    "print(3 * 50)"
   ]
  },
  {
   "cell_type": "code",
   "execution_count": 12,
   "id": "065b1e14",
   "metadata": {},
   "outputs": [
    {
     "name": "stdout",
     "output_type": "stream",
     "text": [
      "3.3333333333333335\n"
     ]
    }
   ],
   "source": [
    "print(10 / 3)"
   ]
  },
  {
   "cell_type": "code",
   "execution_count": 13,
   "id": "ce7dd7e9",
   "metadata": {},
   "outputs": [
    {
     "name": "stdout",
     "output_type": "stream",
     "text": [
      "3\n"
     ]
    }
   ],
   "source": [
    "print(10 // 3) "
   ]
  },
  {
   "cell_type": "code",
   "execution_count": 14,
   "id": "db47ce89",
   "metadata": {},
   "outputs": [
    {
     "name": "stdout",
     "output_type": "stream",
     "text": [
      "1\n"
     ]
    }
   ],
   "source": [
    "print(9 % 2)"
   ]
  },
  {
   "cell_type": "code",
   "execution_count": 15,
   "id": "b4b20b19",
   "metadata": {},
   "outputs": [
    {
     "name": "stdout",
     "output_type": "stream",
     "text": [
      "17\n"
     ]
    }
   ],
   "source": [
    "print(2 + 3 * 5)"
   ]
  },
  {
   "cell_type": "code",
   "execution_count": 17,
   "id": "b72f8483",
   "metadata": {},
   "outputs": [
    {
     "name": "stdout",
     "output_type": "stream",
     "text": [
      "25\n"
     ]
    }
   ],
   "source": [
    "print((2 + 3) * 5)"
   ]
  },
  {
   "cell_type": "code",
   "execution_count": 18,
   "id": "24f28db0",
   "metadata": {},
   "outputs": [
    {
     "name": "stdout",
     "output_type": "stream",
     "text": [
      "15.708\n"
     ]
    }
   ],
   "source": [
    "x = 5\n",
    "y = 3.1416\n",
    "print(x * y)"
   ]
  },
  {
   "cell_type": "code",
   "execution_count": 19,
   "id": "09bdf446",
   "metadata": {},
   "outputs": [
    {
     "data": {
      "text/plain": [
       "int"
      ]
     },
     "execution_count": 19,
     "metadata": {},
     "output_type": "execute_result"
    }
   ],
   "source": [
    "type(x)"
   ]
  },
  {
   "cell_type": "code",
   "execution_count": 20,
   "id": "51d8caf8",
   "metadata": {},
   "outputs": [
    {
     "data": {
      "text/plain": [
       "float"
      ]
     },
     "execution_count": 20,
     "metadata": {},
     "output_type": "execute_result"
    }
   ],
   "source": [
    "type(y)"
   ]
  },
  {
   "cell_type": "markdown",
   "id": "0b66f592",
   "metadata": {},
   "source": [
    "### Convertir tipos de Datos"
   ]
  },
  {
   "cell_type": "code",
   "execution_count": 21,
   "id": "54ce8644",
   "metadata": {},
   "outputs": [
    {
     "name": "stdout",
     "output_type": "stream",
     "text": [
      "3\n"
     ]
    }
   ],
   "source": [
    "y = int(3.6)\n",
    "print(y)"
   ]
  },
  {
   "cell_type": "code",
   "execution_count": 22,
   "id": "6a596cce",
   "metadata": {},
   "outputs": [
    {
     "name": "stdout",
     "output_type": "stream",
     "text": [
      "300\n"
     ]
    }
   ],
   "source": [
    "x = \"300\"\n",
    "z = int(x)\n",
    "print(z)"
   ]
  },
  {
   "cell_type": "markdown",
   "id": "7bd67a61",
   "metadata": {},
   "source": [
    "### Entrada de datos"
   ]
  },
  {
   "cell_type": "code",
   "execution_count": 23,
   "id": "21401b09",
   "metadata": {},
   "outputs": [
    {
     "name": "stdout",
     "output_type": "stream",
     "text": [
      "Escribe tu nombre: Litzy\n",
      "Tu nombre es:  Litzy\n"
     ]
    }
   ],
   "source": [
    "variable = input(\"Escribe tu nombre: \")\n",
    "print(\"Tu nombre es: \", variable)"
   ]
  },
  {
   "cell_type": "code",
   "execution_count": 24,
   "id": "71da7986",
   "metadata": {},
   "outputs": [
    {
     "name": "stdout",
     "output_type": "stream",
     "text": [
      "Proporcioname un numero para multiplicarlo por 5: 5\n",
      "55555\n"
     ]
    }
   ],
   "source": [
    "x = input(\"Proporcioname un numero para multiplicarlo por 5: \")\n",
    "print(x * 5)"
   ]
  },
  {
   "cell_type": "code",
   "execution_count": 25,
   "id": "158e8853",
   "metadata": {},
   "outputs": [
    {
     "name": "stdout",
     "output_type": "stream",
     "text": [
      "Proporcioname un numero para multiplicarlo por 5: 5\n",
      "25\n"
     ]
    }
   ],
   "source": [
    "x = int(input(\"Proporcioname un numero para multiplicarlo por 5: \"))\n",
    "print(x * 5)"
   ]
  },
  {
   "cell_type": "markdown",
   "id": "4d6931ac",
   "metadata": {},
   "source": [
    "#### Calcular la hipotenusa de un triangulo"
   ]
  },
  {
   "cell_type": "code",
   "execution_count": 35,
   "id": "be29fb19",
   "metadata": {},
   "outputs": [
    {
     "name": "stdout",
     "output_type": "stream",
     "text": [
      "Ingrese el cateto a: 4\n",
      "Ingrese el cateto b: 8\n",
      "La hipotenusa es:  8.94427190999916\n"
     ]
    }
   ],
   "source": [
    "import math\n",
    "a = float(input(\"Ingrese el cateto a: \"))\n",
    "b = float(input(\"Ingrese el cateto b: \"))\n",
    "c = (a**2) + (b**2)\n",
    "print(\"La hipotenusa es: \", math.sqrt(c))\n",
    "\n"
   ]
  },
  {
   "cell_type": "code",
   "execution_count": null,
   "id": "e5a0ca64",
   "metadata": {},
   "outputs": [],
   "source": []
  }
 ],
 "metadata": {
  "kernelspec": {
   "display_name": "Python 3 (ipykernel)",
   "language": "python",
   "name": "python3"
  },
  "language_info": {
   "codemirror_mode": {
    "name": "ipython",
    "version": 3
   },
   "file_extension": ".py",
   "mimetype": "text/x-python",
   "name": "python",
   "nbconvert_exporter": "python",
   "pygments_lexer": "ipython3",
   "version": "3.9.12"
  }
 },
 "nbformat": 4,
 "nbformat_minor": 5
}
