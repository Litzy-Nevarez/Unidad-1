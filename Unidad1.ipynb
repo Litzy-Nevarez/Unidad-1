{
 "cells": [
  {
   "cell_type": "code",
   "execution_count": null,
   "id": "ae5f24de",
   "metadata": {},
   "outputs": [],
   "source": []
  },
  {
   "cell_type": "markdown",
   "id": "45bec67a",
   "metadata": {},
   "source": [
    "# Analítica de Datos en las Organizaciones\n",
    "# Docente: José Gabriel Rodriguez Rivas\n",
    "\n",
    "# Unidad 1 Introduccion a los Datos\n",
    "\n",
    "### Alumna: Nevarez García Litzy Yulissa\n",
    "\n",
    "## Introducción al lenguaje de Programación Python\n",
    "\n",
    "<a href=\"#1.2 La funcion print\">1.2 La funcion print</a>\n",
    "\n",
    "<a href=\"1.3 Tipos de datos\">1.3 Tipos de datos</a>\n",
    "\n",
    "<a href=\"1.4 Operadores\">1.4 Operadores</a>\n",
    "\n",
    "<a href=\"1.5 Expresiones y variables\">1.5 Expresiones y variables</a>\n",
    "\n",
    "<a href=\"1.6 Entrada de datos\">1.6 Entrada de datos</a>\n",
    "\n",
    "<a href=\"1.7 Condiciones - Control de flujo del programa\">1.7 Condiciones - Control de flujo del programa</a>\n",
    "\n",
    "<a href=\"1.8 Ciclos\">1.8 Ciclos</a>\n",
    "\n",
    "<a href=\"1.9 Funciones\">1.9 Funciones</a>\n",
    "\n",
    "<a href=\"1.10 Manejo de excepciones\">1.10 Manejo de excepciones</a>\n",
    "\n",
    "\n",
    "### Tema 1 Números.\n",
    "* * *\n",
    "**Int:** Es un número entero, positivo o negativo, sin decimales de longitud ilimitada.\n",
    "\n",
    "**Float:** Flotante, es un número, positivo o negatico, que contiene uno o más decimales. El flotante también puede ser un número científico con una \"e\" para indicar el exponente de 10.\n",
    "\n",
    "**Complex**: Los números complejos se escriben con una \"j\" como parte imaginaria: x = 1.10, y = 12E4, z = 3+fj, w = 18"
   ]
  },
  {
   "cell_type": "code",
   "execution_count": 1,
   "id": "1c962451",
   "metadata": {},
   "outputs": [
    {
     "data": {
      "text/plain": [
       "5"
      ]
     },
     "execution_count": 1,
     "metadata": {},
     "output_type": "execute_result"
    }
   ],
   "source": [
    "3 + 2"
   ]
  },
  {
   "cell_type": "code",
   "execution_count": 2,
   "id": "f9299f17",
   "metadata": {},
   "outputs": [
    {
     "data": {
      "text/plain": [
       "3"
      ]
     },
     "execution_count": 2,
     "metadata": {},
     "output_type": "execute_result"
    }
   ],
   "source": [
    "10-7"
   ]
  },
  {
   "cell_type": "markdown",
   "id": "7fec1733",
   "metadata": {},
   "source": [
    "### Tema 2. Variables\n",
    "* * *\n",
    "- Python no tiene comandos para declarar una variable.\n",
    "\n",
    "- Una variable se crea en el momento en que primero le asigna un valor.\n",
    "\n",
    "- Las variables no necesitan ser declaradas con ningún tipo en particular e incluso pueden cambiar el tipo después de que se hayan establecido.\n",
    "- Un nombre de variable debe comenzar con una letra o el carácter de subrayado\n",
    "- Un nombre de variable no puede comenzar con un número\n",
    "- Un nombre de variable solo puede contener caracteres alfanuméricos y guiones bajos (A-z, 0-9 y _)\n",
    "- Los nombres de las variables distinguen entre mayúsculas y minúsculas (age, Age y AGE son tres variables diferentes) Nombre = \"Carlos\""
   ]
  },
  {
   "cell_type": "code",
   "execution_count": 3,
   "id": "7745ce3a",
   "metadata": {},
   "outputs": [
    {
     "data": {
      "text/plain": [
       "'Litzy'"
      ]
     },
     "execution_count": 3,
     "metadata": {},
     "output_type": "execute_result"
    }
   ],
   "source": [
    "Nombre = \"Litzy\"\n",
    "Nombre"
   ]
  },
  {
   "cell_type": "code",
   "execution_count": 4,
   "id": "4a7a5ea9",
   "metadata": {},
   "outputs": [
    {
     "data": {
      "text/plain": [
       "21"
      ]
     },
     "execution_count": 4,
     "metadata": {},
     "output_type": "execute_result"
    }
   ],
   "source": [
    "Edad = 21\n",
    "Edad"
   ]
  },
  {
   "cell_type": "code",
   "execution_count": 5,
   "id": "9892a3ef",
   "metadata": {},
   "outputs": [
    {
     "name": "stdout",
     "output_type": "stream",
     "text": [
      "Allan Carlos Sara\n"
     ]
    }
   ],
   "source": [
    "nombre1 = \"Allan\"\n",
    "nombre2 = \"Carlos\"\n",
    "nombre3 = \"Sara\"\n",
    "print(nombre1, nombre2, nombre3)"
   ]
  },
  {
   "cell_type": "code",
   "execution_count": 6,
   "id": "fe170775",
   "metadata": {},
   "outputs": [
    {
     "ename": "SyntaxError",
     "evalue": "cannot assign to True (3102447114.py, line 2)",
     "output_type": "error",
     "traceback": [
      "\u001b[1;36m  Input \u001b[1;32mIn [6]\u001b[1;36m\u001b[0m\n\u001b[1;33m    True = 100\u001b[0m\n\u001b[1;37m    ^\u001b[0m\n\u001b[1;31mSyntaxError\u001b[0m\u001b[1;31m:\u001b[0m cannot assign to True\n"
     ]
    }
   ],
   "source": [
    "## No se pueden asignar palabras reservadas como nombres de variables\n",
    "True = 100\n",
    "print(True)"
   ]
  },
  {
   "cell_type": "code",
   "execution_count": 7,
   "id": "398c6b67",
   "metadata": {},
   "outputs": [
    {
     "name": "stdout",
     "output_type": "stream",
     "text": [
      "100\n"
     ]
    }
   ],
   "source": [
    "## En este caso si se crea la variable TRue porque la \n",
    "## R mayuscula python no la reconoce como palabra reservada\n"
   ]
  },
  {
   "cell_type": "code",
   "execution_count": 8,
   "id": "bad45628",
   "metadata": {},
   "outputs": [
    {
     "ename": "SyntaxError",
     "evalue": "cannot assign to operator (4076447692.py, line 2)",
     "output_type": "error",
     "traceback": [
      "\u001b[1;36m  Input \u001b[1;32mIn [8]\u001b[1;36m\u001b[0m\n\u001b[1;33m    Mi-Variable = 3\u001b[0m\n\u001b[1;37m    ^\u001b[0m\n\u001b[1;31mSyntaxError\u001b[0m\u001b[1;31m:\u001b[0m cannot assign to operator\n"
     ]
    }
   ],
   "source": [
    "# Se debe usar el guion bajo como separador de palabras como parte de un nombre de variable\n",
    "Mi-Variable = 3\n",
    "print(Mi-Variable)"
   ]
  },
  {
   "cell_type": "code",
   "execution_count": 9,
   "id": "984be8c7",
   "metadata": {},
   "outputs": [
    {
     "name": "stdout",
     "output_type": "stream",
     "text": [
      "3\n"
     ]
    }
   ],
   "source": [
    "# Se debe usar el guion bajo como separador de palabras como parte de un nombre de variable\n",
    "Mi_Variable = 3\n",
    "print(Mi_Variable)"
   ]
  },
  {
   "cell_type": "markdown",
   "id": "a5311fce",
   "metadata": {},
   "source": [
    "## 1.2 La funcion print"
   ]
  },
  {
   "cell_type": "code",
   "execution_count": 10,
   "id": "7c341c68",
   "metadata": {},
   "outputs": [
    {
     "name": "stdout",
     "output_type": "stream",
     "text": [
      "Hola\n"
     ]
    }
   ],
   "source": [
    "#Imprimir una cadena de texto\n",
    "\n",
    "print( \"Hola\")"
   ]
  },
  {
   "cell_type": "code",
   "execution_count": 11,
   "id": "a996f0c1",
   "metadata": {},
   "outputs": [
    {
     "name": "stdout",
     "output_type": "stream",
     "text": [
      "100\n"
     ]
    }
   ],
   "source": [
    "# Inprimir el valor de una variable numerica\n",
    "print(100)"
   ]
  },
  {
   "cell_type": "code",
   "execution_count": 12,
   "id": "d6468ce4",
   "metadata": {},
   "outputs": [
    {
     "name": "stdout",
     "output_type": "stream",
     "text": [
      "Hola Mundo\n"
     ]
    }
   ],
   "source": [
    "# Inprimir el valor de una variable de cadena de texto\n",
    "x = \"Hola Mundo\"\n",
    "print(x)"
   ]
  },
  {
   "cell_type": "code",
   "execution_count": 13,
   "id": "4926a3a4",
   "metadata": {},
   "outputs": [
    {
     "name": "stdout",
     "output_type": "stream",
     "text": [
      "El valor de x es Hola Mundo\n"
     ]
    }
   ],
   "source": [
    "print( 'El valor de x es', x )"
   ]
  },
  {
   "cell_type": "code",
   "execution_count": 14,
   "id": "7cc36394",
   "metadata": {},
   "outputs": [
    {
     "name": "stdout",
     "output_type": "stream",
     "text": [
      "35\n"
     ]
    }
   ],
   "source": [
    "x = 5 \n",
    "y = 7\n",
    "print(x * y)"
   ]
  },
  {
   "cell_type": "code",
   "execution_count": 15,
   "id": "b141aa87",
   "metadata": {},
   "outputs": [],
   "source": [
    "# comentario de una sola linea"
   ]
  },
  {
   "cell_type": "code",
   "execution_count": 16,
   "id": "e935ab9f",
   "metadata": {},
   "outputs": [
    {
     "name": "stdout",
     "output_type": "stream",
     "text": [
      "El valor de x es 5***El valor de 'y' es 7\n",
      "Holas\n"
     ]
    }
   ],
   "source": [
    "# Usamos el parametro end para especificar cual es el terminador de linea\n",
    "# en una instruccion print\n",
    "# CARACTER DE ESCAPE \\\n",
    "\n",
    "print( 'El valor de x es', x, end='***' )\n",
    "print( 'El valor de \\'y\\' es', y)\n",
    "print(\"Holas\")"
   ]
  },
  {
   "cell_type": "code",
   "execution_count": 17,
   "id": "61fbf760",
   "metadata": {},
   "outputs": [
    {
     "name": "stdout",
     "output_type": "stream",
     "text": [
      "Hola \"Mundo\" \n"
     ]
    }
   ],
   "source": [
    "# Imprimir comillas dobles dentro de un texto\n",
    "print('Hola \"Mundo\" ')"
   ]
  },
  {
   "cell_type": "code",
   "execution_count": 18,
   "id": "9cdcf6be",
   "metadata": {},
   "outputs": [
    {
     "name": "stdout",
     "output_type": "stream",
     "text": [
      "Hola 'Mundo' \n"
     ]
    }
   ],
   "source": [
    "#utilizar el carácter de escape \\ para \n",
    "#poner comillas del mismo tipo\n",
    "\n",
    "print('Hola \\'Mundo\\' ')"
   ]
  },
  {
   "cell_type": "code",
   "execution_count": 19,
   "id": "1c8431a0",
   "metadata": {},
   "outputs": [
    {
     "name": "stdout",
     "output_type": "stream",
     "text": [
      "Hola \tMundo \n"
     ]
    }
   ],
   "source": [
    "# Tabulaciones dentro de la cadena de texto\n",
    "print('Hola \\tMundo ')"
   ]
  },
  {
   "cell_type": "code",
   "execution_count": 20,
   "id": "6e64dddc",
   "metadata": {},
   "outputs": [
    {
     "name": "stdout",
     "output_type": "stream",
     "text": [
      "Hola \n",
      "Mundo \n"
     ]
    }
   ],
   "source": [
    "# Salto de linea  (Enter)  dentro de la cadena de texto\n",
    "print('Hola \\nMundo ')"
   ]
  },
  {
   "cell_type": "markdown",
   "id": "a368930d",
   "metadata": {},
   "source": [
    "## 1.3 Tipos de datos"
   ]
  },
  {
   "cell_type": "code",
   "execution_count": 21,
   "id": "e1e18dbd",
   "metadata": {},
   "outputs": [
    {
     "name": "stdout",
     "output_type": "stream",
     "text": [
      "texto\n"
     ]
    }
   ],
   "source": [
    "x= 1100000   #Enteros\n",
    "x= 123.87   # Flotantes\n",
    "x= \"texto\"\n",
    "print(x)"
   ]
  },
  {
   "cell_type": "code",
   "execution_count": 22,
   "id": "6e16555a",
   "metadata": {},
   "outputs": [
    {
     "name": "stdout",
     "output_type": "stream",
     "text": [
      "55000000\n"
     ]
    }
   ],
   "source": [
    "# Números con separardores de miles\n",
    "# forzosamente debe usarse un guion bajo\n",
    "x= 11_000_000\n",
    "y= 5\n",
    "print(x * y)"
   ]
  },
  {
   "cell_type": "code",
   "execution_count": 23,
   "id": "fb6594f4",
   "metadata": {},
   "outputs": [
    {
     "name": "stdout",
     "output_type": "stream",
     "text": [
      "80.0\n"
     ]
    }
   ],
   "source": [
    "# Exponente\n",
    "w= 0.08e3\n",
    "print(w)"
   ]
  },
  {
   "cell_type": "code",
   "execution_count": 24,
   "id": "a7f7fc4d",
   "metadata": {},
   "outputs": [
    {
     "name": "stdout",
     "output_type": "stream",
     "text": [
      "Hola \"Mundo\" \n"
     ]
    }
   ],
   "source": [
    "x = 'Hola \"Mundo\" '\n",
    "print(x)"
   ]
  },
  {
   "cell_type": "code",
   "execution_count": 25,
   "id": "569d7117",
   "metadata": {},
   "outputs": [
    {
     "name": "stdout",
     "output_type": "stream",
     "text": [
      "*********************************\n"
     ]
    }
   ],
   "source": [
    "print(\"*********************************\")"
   ]
  },
  {
   "cell_type": "code",
   "execution_count": 26,
   "id": "410996f2",
   "metadata": {},
   "outputs": [
    {
     "name": "stdout",
     "output_type": "stream",
     "text": [
      "**************************************************\n"
     ]
    }
   ],
   "source": [
    "print(\"*\" * 50)"
   ]
  },
  {
   "cell_type": "code",
   "execution_count": 27,
   "id": "a7d8fe05",
   "metadata": {},
   "outputs": [
    {
     "name": "stdout",
     "output_type": "stream",
     "text": [
      "Hola Hola Hola Hola Hola Hola Hola Hola Hola Hola Hola Hola Hola Hola Hola Hola Hola Hola Hola Hola Hola Hola Hola Hola Hola Hola Hola Hola Hola Hola Hola Hola Hola Hola Hola Hola Hola Hola Hola Hola Hola Hola Hola Hola Hola Hola Hola Hola Hola Hola \n"
     ]
    }
   ],
   "source": [
    "print(\"Hola \" * 50)"
   ]
  },
  {
   "cell_type": "code",
   "execution_count": 28,
   "id": "b7dae18f",
   "metadata": {},
   "outputs": [
    {
     "name": "stdout",
     "output_type": "stream",
     "text": [
      "243\n"
     ]
    }
   ],
   "source": [
    "# Potencias\n",
    "print(3 **5)"
   ]
  },
  {
   "cell_type": "code",
   "execution_count": 29,
   "id": "6e56b462",
   "metadata": {},
   "outputs": [
    {
     "data": {
      "text/plain": [
       "243"
      ]
     },
     "execution_count": 29,
     "metadata": {},
     "output_type": "execute_result"
    }
   ],
   "source": [
    "# también se puede usar la funcion pow para la exponenciación \n",
    "pow(3,5)"
   ]
  },
  {
   "cell_type": "markdown",
   "id": "78fb2fdb",
   "metadata": {},
   "source": [
    "## 1.4 Operadores\n",
    "- Un operador es un símbolo del lenguaje de programación, el cual es capaz de realizar operaciones con los valores.\n",
    "\n",
    "- Por ejemplo, como en la aritmética, el signo de + (más) es un operador el cual es capaz de sumar dos números, dando el resultado de la suma."
   ]
  },
  {
   "cell_type": "code",
   "execution_count": 30,
   "id": "17521d59",
   "metadata": {},
   "outputs": [
    {
     "name": "stdout",
     "output_type": "stream",
     "text": [
      "15.0\n"
     ]
    }
   ],
   "source": [
    "print(3 * 5.0)"
   ]
  },
  {
   "cell_type": "code",
   "execution_count": 31,
   "id": "b8ba9647",
   "metadata": {},
   "outputs": [
    {
     "name": "stdout",
     "output_type": "stream",
     "text": [
      "5.0\n"
     ]
    }
   ],
   "source": [
    "# La division de numeros enteros siempre resulta en un float\n",
    "print(10 / 2)"
   ]
  },
  {
   "cell_type": "code",
   "execution_count": 32,
   "id": "331b1bb7",
   "metadata": {},
   "outputs": [
    {
     "name": "stdout",
     "output_type": "stream",
     "text": [
      "4\n"
     ]
    }
   ],
   "source": [
    "# El doble signo // dara un resultado sin la parte fraccionaria\n",
    "print( 9 // 2)"
   ]
  },
  {
   "cell_type": "code",
   "execution_count": 33,
   "id": "6f907e4f",
   "metadata": {},
   "outputs": [
    {
     "name": "stdout",
     "output_type": "stream",
     "text": [
      "1\n"
     ]
    }
   ],
   "source": [
    "print(9 % 2)"
   ]
  },
  {
   "cell_type": "code",
   "execution_count": 34,
   "id": "ec133320",
   "metadata": {},
   "outputs": [
    {
     "name": "stdout",
     "output_type": "stream",
     "text": [
      "2\n"
     ]
    }
   ],
   "source": [
    "print(+2)"
   ]
  },
  {
   "cell_type": "code",
   "execution_count": 35,
   "id": "82c30894",
   "metadata": {},
   "outputs": [
    {
     "name": "stdout",
     "output_type": "stream",
     "text": [
      "25\n"
     ]
    }
   ],
   "source": [
    "print((2 + 3) * 5)"
   ]
  },
  {
   "cell_type": "code",
   "execution_count": 36,
   "id": "55056dd1",
   "metadata": {},
   "outputs": [
    {
     "name": "stdout",
     "output_type": "stream",
     "text": [
      "123\n",
      "hola\n"
     ]
    }
   ],
   "source": [
    " X = 123\n",
    "print(X)\n",
    "X= \"hola\"\n",
    "print(X)"
   ]
  },
  {
   "cell_type": "code",
   "execution_count": 37,
   "id": "9f61bb47",
   "metadata": {},
   "outputs": [
    {
     "ename": "SyntaxError",
     "evalue": "cannot assign to True (3180767927.py, line 2)",
     "output_type": "error",
     "traceback": [
      "\u001b[1;36m  Input \u001b[1;32mIn [37]\u001b[1;36m\u001b[0m\n\u001b[1;33m    True = 1\u001b[0m\n\u001b[1;37m    ^\u001b[0m\n\u001b[1;31mSyntaxError\u001b[0m\u001b[1;31m:\u001b[0m cannot assign to True\n"
     ]
    }
   ],
   "source": [
    "#No usar palabras reservadas\n",
    "True = 1"
   ]
  },
  {
   "cell_type": "markdown",
   "id": "4390530f",
   "metadata": {},
   "source": [
    "### Evaluar o conocer el tipo de dato"
   ]
  },
  {
   "cell_type": "code",
   "execution_count": 38,
   "id": "4cea8491",
   "metadata": {},
   "outputs": [
    {
     "data": {
      "text/plain": [
       "str"
      ]
     },
     "execution_count": 38,
     "metadata": {},
     "output_type": "execute_result"
    }
   ],
   "source": [
    "Mensaje = \"Hola mundo\"\n",
    "pi = 3.1416\n",
    "X = 10\n",
    "\n",
    "type(Mensaje)"
   ]
  },
  {
   "cell_type": "code",
   "execution_count": 39,
   "id": "1b89228c",
   "metadata": {},
   "outputs": [
    {
     "data": {
      "text/plain": [
       "float"
      ]
     },
     "execution_count": 39,
     "metadata": {},
     "output_type": "execute_result"
    }
   ],
   "source": [
    "type(pi)"
   ]
  },
  {
   "cell_type": "markdown",
   "id": "516818cb",
   "metadata": {},
   "source": [
    "### Operadores de comparación\n",
    "| Operación | Significado |\n",
    "| --- | --- |\n",
    "| < | Estrictamente menor que |\n",
    "| <= | Menor o igual que |\n",
    "| > | Estrictamente mayor que |\n",
    "| >= | Mayor o igual que |\n",
    "| == | Igual que |\n",
    "| != | Diferente que |\n",
    "| is | Igualdad a nivel de identidad (Son el mismo objeto) |\n",
    "| is not | Desigualdad a nivel de identidad (no son el mismo objeto) |"
   ]
  },
  {
   "cell_type": "code",
   "execution_count": 40,
   "id": "c9c6e23a",
   "metadata": {},
   "outputs": [
    {
     "data": {
      "text/plain": [
       "True"
      ]
     },
     "execution_count": 40,
     "metadata": {},
     "output_type": "execute_result"
    }
   ],
   "source": [
    "5 > 3"
   ]
  },
  {
   "cell_type": "code",
   "execution_count": 41,
   "id": "61d93d5c",
   "metadata": {},
   "outputs": [
    {
     "data": {
      "text/plain": [
       "True"
      ]
     },
     "execution_count": 41,
     "metadata": {},
     "output_type": "execute_result"
    }
   ],
   "source": [
    "5 == 5"
   ]
  },
  {
   "cell_type": "markdown",
   "id": "d7e5270c",
   "metadata": {},
   "source": [
    "### **Casting** - Convertir de un tipo de dato a otro\n",
    "1. **Int:** construye un número entero a partir de un literal entero, un literal flotante (redondeando hacia abajo al número entero anterior), o un literal de cadena (siempre que la cadena represente un número entero)\n",
    "\n",
    "2. **float:** construye un número flotante a partir de un literal entero, un literal flotante o un literal de cadena (siempre que la cadena represente un flotante o un entero)\n",
    "\n",
    "3. **str():** construye una cadena a partir de una amplia variedad de tipos de datos, incluidas cadenas, literales enteros y literales flotantes\n"
   ]
  },
  {
   "cell_type": "code",
   "execution_count": 42,
   "id": "1371a67c",
   "metadata": {},
   "outputs": [
    {
     "data": {
      "text/plain": [
       "2"
      ]
     },
     "execution_count": 42,
     "metadata": {},
     "output_type": "execute_result"
    }
   ],
   "source": [
    "# y will be 2\n",
    "y = int(2.8) \n",
    "y"
   ]
  },
  {
   "cell_type": "code",
   "execution_count": 43,
   "id": "d4123a97",
   "metadata": {},
   "outputs": [
    {
     "data": {
      "text/plain": [
       "3"
      ]
     },
     "execution_count": 43,
     "metadata": {},
     "output_type": "execute_result"
    }
   ],
   "source": [
    "# z will be 3\n",
    "z = int(\"3\") \n",
    "z"
   ]
  },
  {
   "cell_type": "markdown",
   "id": "aa77812a",
   "metadata": {},
   "source": [
    "## 1.5 Expresiones y variables\n",
    "Una expresión es una combinación de valores (o variables, operadores, llamadas a funciones, las cuales son evaluadas y dan como resultado un valor, por ejemplo, 1 + 2.\n",
    "\n",
    "### Prioridad de operadores\n",
    "| Descripción | Operador |\n",
    "| ---------------------  | -------- |\n",
    "| Exponenciacion | ** |\n",
    "| Multiplicación, multiplicación de matrices, división, división de redondeo, residuo o Módulo | * @ / // % |\n",
    "| Suma y Resta | + - |"
   ]
  },
  {
   "cell_type": "code",
   "execution_count": 44,
   "id": "5854ac1a",
   "metadata": {},
   "outputs": [
    {
     "name": "stdout",
     "output_type": "stream",
     "text": [
      "13\n"
     ]
    }
   ],
   "source": [
    "x = 3 + 2 * 5\n",
    "print(x)"
   ]
  },
  {
   "cell_type": "code",
   "execution_count": 45,
   "id": "8b001173",
   "metadata": {},
   "outputs": [
    {
     "name": "stdout",
     "output_type": "stream",
     "text": [
      "25\n"
     ]
    }
   ],
   "source": [
    "x = (3 + 2) * 5\n",
    "print(x)"
   ]
  },
  {
   "cell_type": "code",
   "execution_count": 46,
   "id": "6232af4f",
   "metadata": {},
   "outputs": [
    {
     "name": "stdout",
     "output_type": "stream",
     "text": [
      "4.3076923076923075\n"
     ]
    }
   ],
   "source": [
    "x = ( (25 % 13) + 100) / (2 * 13)\n",
    "print(x)"
   ]
  },
  {
   "cell_type": "code",
   "execution_count": 47,
   "id": "42644b42",
   "metadata": {},
   "outputs": [
    {
     "name": "stdout",
     "output_type": "stream",
     "text": [
      "False\n"
     ]
    }
   ],
   "source": [
    "print( 5 > 7 )"
   ]
  },
  {
   "cell_type": "code",
   "execution_count": 48,
   "id": "144f9efe",
   "metadata": {},
   "outputs": [
    {
     "ename": "SyntaxError",
     "evalue": "expression cannot contain assignment, perhaps you meant \"==\"? (3634147272.py, line 2)",
     "output_type": "error",
     "traceback": [
      "\u001b[1;36m  Input \u001b[1;32mIn [48]\u001b[1;36m\u001b[0m\n\u001b[1;33m    print( 5 = 7 )\u001b[0m\n\u001b[1;37m           ^\u001b[0m\n\u001b[1;31mSyntaxError\u001b[0m\u001b[1;31m:\u001b[0m expression cannot contain assignment, perhaps you meant \"==\"?\n"
     ]
    }
   ],
   "source": [
    "# Un signo de igual sirve para asignar un valor, por lo tanto marca error\n",
    "print( 5 = 7 )"
   ]
  },
  {
   "cell_type": "code",
   "execution_count": 49,
   "id": "daea6642",
   "metadata": {},
   "outputs": [
    {
     "name": "stdout",
     "output_type": "stream",
     "text": [
      "False\n"
     ]
    }
   ],
   "source": [
    "# Doble signo de igual sirve para comparar\n",
    "print( 5 == 7 )"
   ]
  },
  {
   "cell_type": "markdown",
   "id": "79c98dbf",
   "metadata": {},
   "source": [
    "## 1.6 Entrada de datos\n",
    "- La función input() es capaz de leer datos que fueron introducidos por el usuario y pasar esos datos al programa en ejecución.\n",
    "\n",
    "- El resultado debe ser asignado a una variable; esto es crucial, si no se hace los datos introducidos se perderán.\n",
    "\n",
    "- La función pondrá la consola en modo de entrada; aparecerá un cursor que parpadea, y podrás introducir datos con el teclado, al terminar presiona la tecla Enter"
   ]
  },
  {
   "cell_type": "code",
   "execution_count": 50,
   "id": "c5580952",
   "metadata": {},
   "outputs": [
    {
     "name": "stdout",
     "output_type": "stream",
     "text": [
      "Escribe tu nombreLitzy\n",
      "Tu nombre es  Litzy\n"
     ]
    }
   ],
   "source": [
    "variable = input(\"Escribe tu nombre\")\n",
    "print(\"Tu nombre es \", variable)"
   ]
  },
  {
   "cell_type": "code",
   "execution_count": 51,
   "id": "a13c722f",
   "metadata": {},
   "outputs": [
    {
     "name": "stdout",
     "output_type": "stream",
     "text": [
      "¿Me puedes dar tu nombre por favor? Nevarez\n",
      "¿Me puedes dar tu apellido por favor? Litzy\n",
      "Gracias.\n",
      "\n",
      "Tu nombre es Nevarez Litzy.\n"
     ]
    }
   ],
   "source": [
    "nom = input(\"¿Me puedes dar tu nombre por favor? \")\n",
    "ape = input(\"¿Me puedes dar tu apellido por favor? \")\n",
    "print(\"Gracias.\")\n",
    "print(\"\\nTu nombre es \" + nom + \" \" + ape + \".\")"
   ]
  },
  {
   "cell_type": "code",
   "execution_count": 52,
   "id": "ee744fe4",
   "metadata": {},
   "outputs": [
    {
     "name": "stdout",
     "output_type": "stream",
     "text": [
      "¿Me puedes dar tu nombre por favor? Litzy\n",
      "¿Me puedes dar tu apellido por favor? Nevarez\n",
      "Gracias.\n",
      "\n",
      "Tu nombre es Litzy Nevarez.\n"
     ]
    }
   ],
   "source": [
    "nom = input(\"¿Me puedes dar tu nombre por favor? \")\n",
    "ape = input(\"¿Me puedes dar tu apellido por favor? \")\n",
    "print(\"Gracias.\")\n",
    "print(\"\\nTu nombre es \" + nom + \" \" + ape + \".\")"
   ]
  },
  {
   "cell_type": "code",
   "execution_count": 53,
   "id": "0879e464",
   "metadata": {},
   "outputs": [
    {
     "name": "stdout",
     "output_type": "stream",
     "text": [
      "Dame un numero para multiplicar7\n",
      "77777\n"
     ]
    }
   ],
   "source": [
    "# El dato que se captura por teclado es string aunque se proporcione un numero\n",
    "x = input(\"Dame un numero para multiplicar\") \n",
    "z = x * 5\n",
    "print(z)"
   ]
  },
  {
   "cell_type": "code",
   "execution_count": 54,
   "id": "d7c19544",
   "metadata": {},
   "outputs": [
    {
     "name": "stdout",
     "output_type": "stream",
     "text": [
      "Dame un numero para multiplicar5\n",
      "25\n"
     ]
    }
   ],
   "source": [
    "x = int(input(\"Dame un numero para multiplicar\") )\n",
    "z = x * 5\n",
    "print(z)"
   ]
  },
  {
   "cell_type": "markdown",
   "id": "c7031609",
   "metadata": {},
   "source": [
    "### Ejercicio 1 de lectura de datos\n",
    "#### Calcular la longitud de la hipotenusa"
   ]
  },
  {
   "cell_type": "code",
   "execution_count": 55,
   "id": "65718b5d",
   "metadata": {},
   "outputs": [
    {
     "name": "stdout",
     "output_type": "stream",
     "text": [
      "Ingrese el cateto a: 4\n",
      "Ingrese el cateto b: 8\n",
      "La hipotenusa es:  8.94427190999916\n"
     ]
    }
   ],
   "source": [
    "import math\n",
    "a = float(input(\"Ingrese el cateto a: \"))\n",
    "b = float(input(\"Ingrese el cateto b: \"))\n",
    "c = (a**2) + (b**2)\n",
    "print(\"La hipotenusa es: \", math.sqrt(c))"
   ]
  },
  {
   "cell_type": "markdown",
   "id": "df10678d",
   "metadata": {},
   "source": [
    "## 1.7 Condiciones\n",
    "En programación, una sentencia condicional es una instrucción o grupo de instrucciones que se pueden ejecutar o no en función del resultado (TRUE o FALSE) de una expresión.\n",
    "\n",
    "### if else\n",
    "Ejecuta codigo dependiendo del resultado de una condición\n",
    "\n",
    "if true_or_false_condition:\n",
    "\n",
    "    perform_if_condition_true\n",
    "    \n",
    "else:\n",
    "\n",
    "    perform_if_condition_false\n",
    "\n",
    "La ejecución de if-else es la siguiente:\n",
    "\n",
    "- Si la condición se evalúa como True (su valor no es igual a cero), la instrucción perform_if_condition_true se ejecuta, y la sentencia condicional llega a su fin.\n",
    "\n",
    "- Si la condición se evalúa como False (es igual a cero), la instrucción perform_if_condition_false se ejecuta, y la sentencia condicional llega a su fin.\n",
    "\n",
    "1. El resultado de la condicion debe ser verdadero (TRUE) o falso (FALSE)\n",
    "\n",
    "2. Python se basa en la sangría, usando espacios en blanco, para definir el alcance en el código.\n",
    "\n",
    "3. Otros lenguajes de programación a menudo utilizan llaves para este propósito."
   ]
  },
  {
   "cell_type": "code",
   "execution_count": 56,
   "id": "98f2b195",
   "metadata": {},
   "outputs": [
    {
     "name": "stdout",
     "output_type": "stream",
     "text": [
      "b es mayor que a\n",
      "Fuera del if\n"
     ]
    }
   ],
   "source": [
    "a = 5000\n",
    "b = 7000\n",
    "if b > a:\n",
    "    print(\"b es mayor que a\")\n",
    "else:\n",
    "    print(\"a es mayor que b\")\n",
    "    \n",
    "print(\"Fuera del if\")"
   ]
  },
  {
   "cell_type": "code",
   "execution_count": 57,
   "id": "20126156",
   "metadata": {},
   "outputs": [
    {
     "name": "stdout",
     "output_type": "stream",
     "text": [
      "b es mayor que a\n",
      "7000  es mayor que  5000\n",
      "Fuera del if\n"
     ]
    }
   ],
   "source": [
    "a = 5000\n",
    "b = 7000\n",
    "if b > a:\n",
    "    print(\"b es mayor que a\")\n",
    "    print(b,\" es mayor que \",a)\n",
    "else:\n",
    "    print(\"a es mayor que b\")\n",
    "    print(a,\" es mayor que \",b)\n",
    "    \n",
    "print(\"Fuera del if\")"
   ]
  },
  {
   "cell_type": "code",
   "execution_count": null,
   "id": "81cf9bf7",
   "metadata": {},
   "outputs": [],
   "source": []
  }
 ],
 "metadata": {
  "kernelspec": {
   "display_name": "Python 3 (ipykernel)",
   "language": "python",
   "name": "python3"
  },
  "language_info": {
   "codemirror_mode": {
    "name": "ipython",
    "version": 3
   },
   "file_extension": ".py",
   "mimetype": "text/x-python",
   "name": "python",
   "nbconvert_exporter": "python",
   "pygments_lexer": "ipython3",
   "version": "3.9.12"
  }
 },
 "nbformat": 4,
 "nbformat_minor": 5
}
